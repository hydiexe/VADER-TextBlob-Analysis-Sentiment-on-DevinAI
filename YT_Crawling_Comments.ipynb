{
  "nbformat": 4,
  "nbformat_minor": 0,
  "metadata": {
    "colab": {
      "provenance": [],
      "authorship_tag": "ABX9TyPgJyvCt0kyNoE1dmFcQMHV",
      "include_colab_link": true
    },
    "kernelspec": {
      "name": "python3",
      "display_name": "Python 3"
    },
    "language_info": {
      "name": "python"
    }
  },
  "cells": [
    {
      "cell_type": "markdown",
      "metadata": {
        "id": "view-in-github",
        "colab_type": "text"
      },
      "source": [
        "<a href=\"https://colab.research.google.com/github/hydiexe/VADER-TextBlob-Analysis-Sentiment-on-DevinAI/blob/main/YT_Crawling_Comments.ipynb\" target=\"_parent\"><img src=\"https://colab.research.google.com/assets/colab-badge.svg\" alt=\"Open In Colab\"/></a>"
      ]
    },
    {
      "cell_type": "code",
      "execution_count": null,
      "metadata": {
        "id": "DGzb5pT4_fWY"
      },
      "outputs": [],
      "source": [
        "!pip install google-api-python-client pandas langdetect"
      ]
    },
    {
      "cell_type": "code",
      "source": [
        "import os\n",
        "import googleapiclient.discovery\n",
        "import pandas as pd\n",
        "from langdetect import detect"
      ],
      "metadata": {
        "id": "5ieo2V4VBMQC"
      },
      "execution_count": null,
      "outputs": []
    },
    {
      "cell_type": "code",
      "source": [
        "api_key = 'YOUR_API_KEY'\n",
        "video_id = 'YOUR_VIDEO_ID'"
      ],
      "metadata": {
        "id": "ih1jF_suBOrw"
      },
      "execution_count": null,
      "outputs": []
    },
    {
      "cell_type": "code",
      "source": [
        "def is_english(text):\n",
        "    try:\n",
        "        return detect(text) == 'en'\n",
        "    except:\n",
        "        return False"
      ],
      "metadata": {
        "id": "whcaGS6LBSJ-"
      },
      "execution_count": null,
      "outputs": []
    },
    {
      "cell_type": "code",
      "source": [
        "def get_comments(video_id, api_key, max_results=100):\n",
        "    comments = []\n",
        "    youtube = googleapiclient.discovery.build('youtube', 'v3', developerKey=api_key)\n",
        "\n",
        "    request = youtube.commentThreads().list(\n",
        "        part='snippet',\n",
        "        videoId=video_id,\n",
        "        maxResults=max_results,\n",
        "        textFormat='plainText'\n",
        "    )\n",
        "\n",
        "    response = request.execute()\n",
        "\n",
        "    while request:\n",
        "        for item in response['items']:\n",
        "            published_at = item['snippet']['topLevelComment']['snippet']['publishedAt']\n",
        "            comment = item['snippet']['topLevelComment']['snippet']['textDisplay']\n",
        "            if is_english(comment):\n",
        "                comments.append((published_at, comment))\n",
        "\n",
        "        if 'nextPageToken' in response:\n",
        "            request = youtube.commentThreads().list(\n",
        "                part='snippet',\n",
        "                videoId=video_id,\n",
        "                maxResults=max_results,\n",
        "                pageToken=response['nextPageToken'],\n",
        "                textFormat='plainText'\n",
        "            )\n",
        "            response = request.execute()\n",
        "        else:\n",
        "            break\n",
        "\n",
        "    return comments"
      ],
      "metadata": {
        "id": "7U-cp6vDBVvD"
      },
      "execution_count": null,
      "outputs": []
    },
    {
      "cell_type": "code",
      "source": [
        "comments = get_comments(video_id, api_key)\n",
        "df = pd.DataFrame(comments, columns=['PublishedAt', 'Comment'])"
      ],
      "metadata": {
        "id": "-dboVdNDBaru"
      },
      "execution_count": null,
      "outputs": []
    },
    {
      "cell_type": "code",
      "source": [
        "df.to_csv('youtube_comments.csv', index=False)"
      ],
      "metadata": {
        "id": "gtQbdN9ABf0C"
      },
      "execution_count": null,
      "outputs": []
    }
  ]
}